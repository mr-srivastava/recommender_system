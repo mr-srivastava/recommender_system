{
 "cells": [
  {
   "cell_type": "code",
   "execution_count": null,
   "metadata": {},
   "outputs": [],
   "source": [
    "import time\n",
    "import requests\n",
    "import pandas as pd\n",
    "from  bs4 import BeautifulSoup"
   ]
  },
  {
   "cell_type": "code",
   "execution_count": null,
   "metadata": {},
   "outputs": [],
   "source": [
    "start = time.time()"
   ]
  },
  {
   "cell_type": "code",
   "execution_count": null,
   "metadata": {},
   "outputs": [],
   "source": [
    "links = pd.read_csv('Data/ml-small/links.csv',dtype={0:'str',1:'str',2:'str'})"
   ]
  },
  {
   "cell_type": "markdown",
   "metadata": {},
   "source": [
    "imdbId and tmdbId are identifiers used by http://www.imdb.com and https://www.themoviedb.org respectively. So creating vairables containing URL without the identifiers."
   ]
  },
  {
   "cell_type": "code",
   "execution_count": null,
   "metadata": {},
   "outputs": [],
   "source": [
    "tmdb='https://www.themoviedb.org/movie/'\n",
    "imdb='http://www.imdb.com/title/tt'"
   ]
  },
  {
   "cell_type": "markdown",
   "metadata": {},
   "source": [
    "Combining the ID with the respective links to get the URLs."
   ]
  },
  {
   "cell_type": "code",
   "execution_count": null,
   "metadata": {},
   "outputs": [],
   "source": [
    "def link_builder(df,new_col,col,link):\n",
    "    if link=='tmdb':\n",
    "        df.loc[df[col].notna(),new_col]=df.loc[df[col].notna(),col].apply(lambda x: link+(x))\n",
    "    else:\n",
    "        df.loc[df[col].notna(),new_col]=df.loc[df[col].notna(),col].apply(lambda x: link+(x)+'/')"
   ]
  },
  {
   "cell_type": "code",
   "execution_count": null,
   "metadata": {},
   "outputs": [],
   "source": [
    "link_builder(links,'imdb_url','imdbId',imdb)\n",
    "link_builder(links,'tmdb_url','tmdbId',tmdb)"
   ]
  },
  {
   "cell_type": "code",
   "execution_count": null,
   "metadata": {},
   "outputs": [],
   "source": [
    "links.isna().sum()"
   ]
  },
  {
   "cell_type": "code",
   "execution_count": null,
   "metadata": {},
   "outputs": [],
   "source": [
    "links.head()"
   ]
  },
  {
   "cell_type": "code",
   "execution_count": null,
   "metadata": {},
   "outputs": [],
   "source": [
    "links.drop(['imdbId','tmdbId'],axis=1)"
   ]
  },
  {
   "cell_type": "markdown",
   "metadata": {},
   "source": [
    "Using requests and BeautifulSoup4 packages to scrape the plot summaries from the respective websites."
   ]
  },
  {
   "cell_type": "code",
   "execution_count": null,
   "metadata": {},
   "outputs": [],
   "source": [
    "valid_type=(type(BeautifulSoup(requests.get(links['imdb_url'][0]).content,'html.parser').find(class_='inline canwrap').find('span')))\n",
    "def plot_scapper(url,url_col,valid_type=valid_type):\n",
    "    if url_col=='tmdb_url':\n",
    "        element = BeautifulSoup(requests.get(url).content,'html.parser').find(class_='overview')\n",
    "        if type(element)!=valid_type:\n",
    "            return None\n",
    "        else:\n",
    "            return element.get_text()\n",
    "    else:\n",
    "        element = BeautifulSoup(requests.get(url).content,'html.parser').find(class_='inline canwrap').find('span')\n",
    "        if type(element)!=valid_type:\n",
    "            return None\n",
    "        else:\n",
    "            return element.text"
   ]
  },
  {
   "cell_type": "code",
   "execution_count": null,
   "metadata": {},
   "outputs": [],
   "source": [
    "def plot_builder(df,plot_col,url_col):\n",
    "    df.loc[df[url_col].notna(),plot_col]=df.loc[df[url_col].notna(),url_col].apply(plot_scapper,args=(url_col,))"
   ]
  },
  {
   "cell_type": "code",
   "execution_count": null,
   "metadata": {},
   "outputs": [],
   "source": [
    "plot_builder(links,'imdb_summary','imdb_url')"
   ]
  },
  {
   "cell_type": "code",
   "execution_count": null,
   "metadata": {},
   "outputs": [],
   "source": [
    "plot_builder(links,'tmdb_overview','tmdb_url')"
   ]
  },
  {
   "cell_type": "code",
   "execution_count": null,
   "metadata": {},
   "outputs": [],
   "source": [
    "links.head()"
   ]
  },
  {
   "cell_type": "code",
   "execution_count": null,
   "metadata": {},
   "outputs": [],
   "source": [
    "links.to_csv('url_n_plots.csv',index=False)"
   ]
  },
  {
   "cell_type": "code",
   "execution_count": null,
   "metadata": {},
   "outputs": [],
   "source": [
    "end=time.time()"
   ]
  },
  {
   "cell_type": "code",
   "execution_count": null,
   "metadata": {},
   "outputs": [],
   "source": [
    "print('Run time : {} minutes').format((end-start)/60)"
   ]
  }
 ],
 "metadata": {
  "kernelspec": {
   "display_name": "Python 3",
   "language": "python",
   "name": "python3"
  },
  "language_info": {
   "codemirror_mode": {
    "name": "ipython",
    "version": 3
   },
   "file_extension": ".py",
   "mimetype": "text/x-python",
   "name": "python",
   "nbconvert_exporter": "python",
   "pygments_lexer": "ipython3",
   "version": "3.7.6"
  }
 },
 "nbformat": 4,
 "nbformat_minor": 4
}
