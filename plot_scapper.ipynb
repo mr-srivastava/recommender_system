{
 "cells": [
  {
   "cell_type": "code",
   "execution_count": 1,
   "metadata": {},
   "outputs": [],
   "source": [
    "import time\n",
    "import requests\n",
    "import pandas as pd\n",
    "from  bs4 import BeautifulSoup"
   ]
  },
  {
   "cell_type": "code",
   "execution_count": 2,
   "metadata": {},
   "outputs": [],
   "source": [
    "links = pd.read_csv('Data/ml-small/links.csv',dtype={0:'str',1:'str',2:'str'})"
   ]
  },
  {
   "cell_type": "markdown",
   "metadata": {},
   "source": [
    "imdbId and tmdbId are identifiers used by http://www.imdb.com and https://www.themoviedb.org respectively. So creating vairables containing URL without the identifiers."
   ]
  },
  {
   "cell_type": "code",
   "execution_count": 3,
   "metadata": {},
   "outputs": [],
   "source": [
    "tmdb='https://www.themoviedb.org/movie/'\n",
    "imdb='http://www.imdb.com/title/tt'"
   ]
  },
  {
   "cell_type": "markdown",
   "metadata": {},
   "source": [
    "Combining the ID with the respective links to get the URLs."
   ]
  },
  {
   "cell_type": "code",
   "execution_count": 4,
   "metadata": {},
   "outputs": [],
   "source": [
    "def link_builder(df,new_col,col,link):\n",
    "    if link=='tmdb':\n",
    "        df.loc[df[col].notna(),new_col]=df.loc[df[col].notna(),col].apply(lambda x: link+(x))\n",
    "    else:\n",
    "        df.loc[df[col].notna(),new_col]=df.loc[df[col].notna(),col].apply(lambda x: link+(x)+'/')"
   ]
  },
  {
   "cell_type": "code",
   "execution_count": 5,
   "metadata": {},
   "outputs": [],
   "source": [
    "link_builder(links,'imdb_url','imdbId',imdb)\n",
    "link_builder(links,'tmdb_url','tmdbId',tmdb)"
   ]
  },
  {
   "cell_type": "code",
   "execution_count": 6,
   "metadata": {},
   "outputs": [
    {
     "data": {
      "text/plain": [
       "movieId     0\n",
       "imdbId      0\n",
       "tmdbId      8\n",
       "imdb_url    0\n",
       "tmdb_url    8\n",
       "dtype: int64"
      ]
     },
     "execution_count": 6,
     "metadata": {},
     "output_type": "execute_result"
    }
   ],
   "source": [
    "links.isna().sum()"
   ]
  },
  {
   "cell_type": "code",
   "execution_count": 7,
   "metadata": {},
   "outputs": [
    {
     "data": {
      "text/html": [
       "<div>\n",
       "<style scoped>\n",
       "    .dataframe tbody tr th:only-of-type {\n",
       "        vertical-align: middle;\n",
       "    }\n",
       "\n",
       "    .dataframe tbody tr th {\n",
       "        vertical-align: top;\n",
       "    }\n",
       "\n",
       "    .dataframe thead th {\n",
       "        text-align: right;\n",
       "    }\n",
       "</style>\n",
       "<table border=\"1\" class=\"dataframe\">\n",
       "  <thead>\n",
       "    <tr style=\"text-align: right;\">\n",
       "      <th></th>\n",
       "      <th>movieId</th>\n",
       "      <th>imdbId</th>\n",
       "      <th>tmdbId</th>\n",
       "      <th>imdb_url</th>\n",
       "      <th>tmdb_url</th>\n",
       "    </tr>\n",
       "  </thead>\n",
       "  <tbody>\n",
       "    <tr>\n",
       "      <th>0</th>\n",
       "      <td>1</td>\n",
       "      <td>0114709</td>\n",
       "      <td>862</td>\n",
       "      <td>http://www.imdb.com/title/tt0114709/</td>\n",
       "      <td>https://www.themoviedb.org/movie/862/</td>\n",
       "    </tr>\n",
       "    <tr>\n",
       "      <th>1</th>\n",
       "      <td>2</td>\n",
       "      <td>0113497</td>\n",
       "      <td>8844</td>\n",
       "      <td>http://www.imdb.com/title/tt0113497/</td>\n",
       "      <td>https://www.themoviedb.org/movie/8844/</td>\n",
       "    </tr>\n",
       "    <tr>\n",
       "      <th>2</th>\n",
       "      <td>3</td>\n",
       "      <td>0113228</td>\n",
       "      <td>15602</td>\n",
       "      <td>http://www.imdb.com/title/tt0113228/</td>\n",
       "      <td>https://www.themoviedb.org/movie/15602/</td>\n",
       "    </tr>\n",
       "    <tr>\n",
       "      <th>3</th>\n",
       "      <td>4</td>\n",
       "      <td>0114885</td>\n",
       "      <td>31357</td>\n",
       "      <td>http://www.imdb.com/title/tt0114885/</td>\n",
       "      <td>https://www.themoviedb.org/movie/31357/</td>\n",
       "    </tr>\n",
       "    <tr>\n",
       "      <th>4</th>\n",
       "      <td>5</td>\n",
       "      <td>0113041</td>\n",
       "      <td>11862</td>\n",
       "      <td>http://www.imdb.com/title/tt0113041/</td>\n",
       "      <td>https://www.themoviedb.org/movie/11862/</td>\n",
       "    </tr>\n",
       "  </tbody>\n",
       "</table>\n",
       "</div>"
      ],
      "text/plain": [
       "  movieId   imdbId tmdbId                              imdb_url  \\\n",
       "0       1  0114709    862  http://www.imdb.com/title/tt0114709/   \n",
       "1       2  0113497   8844  http://www.imdb.com/title/tt0113497/   \n",
       "2       3  0113228  15602  http://www.imdb.com/title/tt0113228/   \n",
       "3       4  0114885  31357  http://www.imdb.com/title/tt0114885/   \n",
       "4       5  0113041  11862  http://www.imdb.com/title/tt0113041/   \n",
       "\n",
       "                                  tmdb_url  \n",
       "0    https://www.themoviedb.org/movie/862/  \n",
       "1   https://www.themoviedb.org/movie/8844/  \n",
       "2  https://www.themoviedb.org/movie/15602/  \n",
       "3  https://www.themoviedb.org/movie/31357/  \n",
       "4  https://www.themoviedb.org/movie/11862/  "
      ]
     },
     "execution_count": 7,
     "metadata": {},
     "output_type": "execute_result"
    }
   ],
   "source": [
    "links.head()"
   ]
  },
  {
   "cell_type": "code",
   "execution_count": 8,
   "metadata": {},
   "outputs": [
    {
     "data": {
      "text/html": [
       "<div>\n",
       "<style scoped>\n",
       "    .dataframe tbody tr th:only-of-type {\n",
       "        vertical-align: middle;\n",
       "    }\n",
       "\n",
       "    .dataframe tbody tr th {\n",
       "        vertical-align: top;\n",
       "    }\n",
       "\n",
       "    .dataframe thead th {\n",
       "        text-align: right;\n",
       "    }\n",
       "</style>\n",
       "<table border=\"1\" class=\"dataframe\">\n",
       "  <thead>\n",
       "    <tr style=\"text-align: right;\">\n",
       "      <th></th>\n",
       "      <th>movieId</th>\n",
       "      <th>imdb_url</th>\n",
       "      <th>tmdb_url</th>\n",
       "    </tr>\n",
       "  </thead>\n",
       "  <tbody>\n",
       "    <tr>\n",
       "      <th>0</th>\n",
       "      <td>1</td>\n",
       "      <td>http://www.imdb.com/title/tt0114709/</td>\n",
       "      <td>https://www.themoviedb.org/movie/862/</td>\n",
       "    </tr>\n",
       "    <tr>\n",
       "      <th>1</th>\n",
       "      <td>2</td>\n",
       "      <td>http://www.imdb.com/title/tt0113497/</td>\n",
       "      <td>https://www.themoviedb.org/movie/8844/</td>\n",
       "    </tr>\n",
       "    <tr>\n",
       "      <th>2</th>\n",
       "      <td>3</td>\n",
       "      <td>http://www.imdb.com/title/tt0113228/</td>\n",
       "      <td>https://www.themoviedb.org/movie/15602/</td>\n",
       "    </tr>\n",
       "    <tr>\n",
       "      <th>3</th>\n",
       "      <td>4</td>\n",
       "      <td>http://www.imdb.com/title/tt0114885/</td>\n",
       "      <td>https://www.themoviedb.org/movie/31357/</td>\n",
       "    </tr>\n",
       "    <tr>\n",
       "      <th>4</th>\n",
       "      <td>5</td>\n",
       "      <td>http://www.imdb.com/title/tt0113041/</td>\n",
       "      <td>https://www.themoviedb.org/movie/11862/</td>\n",
       "    </tr>\n",
       "    <tr>\n",
       "      <th>...</th>\n",
       "      <td>...</td>\n",
       "      <td>...</td>\n",
       "      <td>...</td>\n",
       "    </tr>\n",
       "    <tr>\n",
       "      <th>9737</th>\n",
       "      <td>193581</td>\n",
       "      <td>http://www.imdb.com/title/tt5476944/</td>\n",
       "      <td>https://www.themoviedb.org/movie/432131/</td>\n",
       "    </tr>\n",
       "    <tr>\n",
       "      <th>9738</th>\n",
       "      <td>193583</td>\n",
       "      <td>http://www.imdb.com/title/tt5914996/</td>\n",
       "      <td>https://www.themoviedb.org/movie/445030/</td>\n",
       "    </tr>\n",
       "    <tr>\n",
       "      <th>9739</th>\n",
       "      <td>193585</td>\n",
       "      <td>http://www.imdb.com/title/tt6397426/</td>\n",
       "      <td>https://www.themoviedb.org/movie/479308/</td>\n",
       "    </tr>\n",
       "    <tr>\n",
       "      <th>9740</th>\n",
       "      <td>193587</td>\n",
       "      <td>http://www.imdb.com/title/tt8391976/</td>\n",
       "      <td>https://www.themoviedb.org/movie/483455/</td>\n",
       "    </tr>\n",
       "    <tr>\n",
       "      <th>9741</th>\n",
       "      <td>193609</td>\n",
       "      <td>http://www.imdb.com/title/tt0101726/</td>\n",
       "      <td>https://www.themoviedb.org/movie/37891/</td>\n",
       "    </tr>\n",
       "  </tbody>\n",
       "</table>\n",
       "<p>9742 rows × 3 columns</p>\n",
       "</div>"
      ],
      "text/plain": [
       "     movieId                              imdb_url  \\\n",
       "0          1  http://www.imdb.com/title/tt0114709/   \n",
       "1          2  http://www.imdb.com/title/tt0113497/   \n",
       "2          3  http://www.imdb.com/title/tt0113228/   \n",
       "3          4  http://www.imdb.com/title/tt0114885/   \n",
       "4          5  http://www.imdb.com/title/tt0113041/   \n",
       "...      ...                                   ...   \n",
       "9737  193581  http://www.imdb.com/title/tt5476944/   \n",
       "9738  193583  http://www.imdb.com/title/tt5914996/   \n",
       "9739  193585  http://www.imdb.com/title/tt6397426/   \n",
       "9740  193587  http://www.imdb.com/title/tt8391976/   \n",
       "9741  193609  http://www.imdb.com/title/tt0101726/   \n",
       "\n",
       "                                      tmdb_url  \n",
       "0        https://www.themoviedb.org/movie/862/  \n",
       "1       https://www.themoviedb.org/movie/8844/  \n",
       "2      https://www.themoviedb.org/movie/15602/  \n",
       "3      https://www.themoviedb.org/movie/31357/  \n",
       "4      https://www.themoviedb.org/movie/11862/  \n",
       "...                                        ...  \n",
       "9737  https://www.themoviedb.org/movie/432131/  \n",
       "9738  https://www.themoviedb.org/movie/445030/  \n",
       "9739  https://www.themoviedb.org/movie/479308/  \n",
       "9740  https://www.themoviedb.org/movie/483455/  \n",
       "9741   https://www.themoviedb.org/movie/37891/  \n",
       "\n",
       "[9742 rows x 3 columns]"
      ]
     },
     "execution_count": 8,
     "metadata": {},
     "output_type": "execute_result"
    }
   ],
   "source": [
    "links.drop(['imdbId','tmdbId'],axis=1)"
   ]
  },
  {
   "cell_type": "markdown",
   "metadata": {},
   "source": [
    "Using requests and BeautifulSoup4 packages to scrape the plot summaries from the respective websites."
   ]
  },
  {
   "cell_type": "code",
   "execution_count": 12,
   "metadata": {},
   "outputs": [],
   "source": [
    "def plot_scapper(url,url_col):\n",
    "    if url_col=='tmdb_url':\n",
    "        page = requests.get(url)\n",
    "        soup = BeautifulSoup(page.content,'html.parser')\n",
    "        return soup.find(class_='overview').get_text()\n",
    "    else:\n",
    "        page = requests.get(url)\n",
    "        soup = BeautifulSoup(page.content,'html.parser')\n",
    "        return soup.find(class_='inline canwrap').find('span').text"
   ]
  },
  {
   "cell_type": "code",
   "execution_count": 13,
   "metadata": {},
   "outputs": [],
   "source": [
    "def plot_builder(df,plot_col,url_col):\n",
    "    df.loc[df[url_col].notna(),plot_col]=df.loc[df[url_col].notna(),url_col].apply(plot_scapper,args=(url_col,))\n",
    "    "
   ]
  },
  {
   "cell_type": "code",
   "execution_count": null,
   "metadata": {},
   "outputs": [],
   "source": [
    "plot_builder(links,'imdb_summary','imdb_url')"
   ]
  },
  {
   "cell_type": "code",
   "execution_count": null,
   "metadata": {},
   "outputs": [],
   "source": [
    "plot_builder(links,'tmdb_overview','tmdb_url')"
   ]
  },
  {
   "cell_type": "code",
   "execution_count": null,
   "metadata": {},
   "outputs": [],
   "source": [
    "links.head()"
   ]
  },
  {
   "cell_type": "code",
   "execution_count": null,
   "metadata": {},
   "outputs": [],
   "source": [
    "links.to_csv('url_n_plots.csv',index=False)"
   ]
  },
  {
   "cell_type": "code",
   "execution_count": null,
   "metadata": {},
   "outputs": [],
   "source": []
  },
  {
   "cell_type": "code",
   "execution_count": null,
   "metadata": {},
   "outputs": [],
   "source": []
  },
  {
   "cell_type": "code",
   "execution_count": null,
   "metadata": {},
   "outputs": [],
   "source": []
  }
 ],
 "metadata": {
  "kernelspec": {
   "display_name": "Python 3",
   "language": "python",
   "name": "python3"
  },
  "language_info": {
   "codemirror_mode": {
    "name": "ipython",
    "version": 3
   },
   "file_extension": ".py",
   "mimetype": "text/x-python",
   "name": "python",
   "nbconvert_exporter": "python",
   "pygments_lexer": "ipython3",
   "version": "3.7.6"
  }
 },
 "nbformat": 4,
 "nbformat_minor": 4
}
